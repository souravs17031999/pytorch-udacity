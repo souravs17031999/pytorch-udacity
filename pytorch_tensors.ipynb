{
  "cells": [
    {
      "metadata": {},
      "cell_type": "markdown",
      "source": "# single perceptron"
    },
    {
      "metadata": {
        "trusted": true
      },
      "cell_type": "code",
      "source": "import torch #importing torch for using pytorch ",
      "execution_count": 1,
      "outputs": []
    },
    {
      "metadata": {
        "trusted": true
      },
      "cell_type": "code",
      "source": "#using sigmoid activation function for squashing the output of neural networks between 0-1 as a probability.\ndef activation(x): \n    return 1/(1+torch.exp(-x)) ",
      "execution_count": 2,
      "outputs": []
    },
    {
      "metadata": {
        "trusted": true
      },
      "cell_type": "code",
      "source": "torch.manual_seed(7) #to make sure that random numbers picked are same during each execution of program\n\nfeatures=torch.randn((1,5)) #picking random numbers from normal distribution that is a distribution which has mean 0 and stdeviation 1 of dimensions 1 row and 5 columns\nweights=torch.randn_like(features) #making sure that weight has same shape (dimensions) as features that is 1 row and 5 columns\nbias=torch.randn((1,1)) #making sure that bias is a tensor of dimensions 1 row and 1 columns so basically 1 value\nweights=weights.view(5,1) #weights change as 5 row and 1 columns so , that multiplication capability is checked \nprint(weights) #printing weights tensors\nprint(features) #printing features tensors\nprint(activation(torch.mm(features,weights)+bias)) #printing final outputs\n",
      "execution_count": 3,
      "outputs": [
        {
          "output_type": "stream",
          "text": "tensor([[-0.8948],\n        [-0.3556],\n        [ 1.2324],\n        [ 0.1382],\n        [-1.6822]])\ntensor([[-0.1468,  0.7861,  0.9468, -1.1143,  1.6908]])\ntensor([[0.1595]])\n",
          "name": "stdout"
        }
      ]
    },
    {
      "metadata": {},
      "cell_type": "markdown",
      "source": "# multilayer perceptron"
    },
    {
      "metadata": {
        "trusted": true
      },
      "cell_type": "code",
      "source": "torch.manual_seed(7)\n\n# Features are 3 random normal variables\nfeatures = torch.randn((1, 3))\n# Define the size of each layer in our network\nn_input = features.shape[1]     # Number of input units, must match number of input features\nn_hidden = 2                    # Number of hidden units \nn_output = 1                    # Number of output units\n\n# Weights for inputs to hidden layer it genralizes to torch.randn(layer_before_it_units,current_layer_units)\nW1 = torch.randn(n_input, n_hidden)\n# Weights for hidden layer to output layer\nW2 = torch.randn(n_hidden, n_output)\n\n# and bias terms for hidden and output layers\nB1 = torch.randn((1, n_hidden))\nB2 = torch.randn((1, n_output))\n\nh=activation(torch.mm(features,W1)+B1)\no=activation(torch.mm(h,W2)+B2)\n\nprint(W1)\nprint(W2)\nprint(B1)\nprint(B2)\nprint(h)\nprint(o)\n",
      "execution_count": 4,
      "outputs": [
        {
          "output_type": "stream",
          "text": "tensor([[-1.1143,  1.6908],\n        [-0.8948, -0.3556],\n        [ 1.2324,  0.1382]])\ntensor([[-1.6822],\n        [ 0.3177]])\ntensor([[0.1328, 0.1373]])\ntensor([[0.2405]])\ntensor([[0.6813, 0.4355]])\ntensor([[0.3171]])\n",
          "name": "stdout"
        }
      ]
    },
    {
      "metadata": {},
      "cell_type": "markdown",
      "source": "# numpy and pytorch"
    },
    {
      "metadata": {
        "trusted": true
      },
      "cell_type": "code",
      "source": "import numpy as np",
      "execution_count": 5,
      "outputs": []
    },
    {
      "metadata": {
        "trusted": true
      },
      "cell_type": "code",
      "source": "a=np.random.rand(4,3) #creating a random array of dimensions - 4 rows and 3 columns \na",
      "execution_count": 6,
      "outputs": [
        {
          "output_type": "execute_result",
          "execution_count": 6,
          "data": {
            "text/plain": "array([[0.38462246, 0.80409084, 0.04258804],\n       [0.08319516, 0.38643379, 0.79375325],\n       [0.59954652, 0.60869509, 0.01011964],\n       [0.3461263 , 0.79690306, 0.21441207]])"
          },
          "metadata": {}
        }
      ]
    },
    {
      "metadata": {
        "trusted": true
      },
      "cell_type": "code",
      "source": "b=torch.from_numpy(a) #creating a pytorch tensor from numpy array\nb",
      "execution_count": 7,
      "outputs": [
        {
          "output_type": "execute_result",
          "execution_count": 7,
          "data": {
            "text/plain": "tensor([[0.3846, 0.8041, 0.0426],\n        [0.0832, 0.3864, 0.7938],\n        [0.5995, 0.6087, 0.0101],\n        [0.3461, 0.7969, 0.2144]], dtype=torch.float64)"
          },
          "metadata": {}
        }
      ]
    },
    {
      "metadata": {
        "trusted": true
      },
      "cell_type": "code",
      "source": "c=b.numpy() #converting our tensor back to numpy\nc",
      "execution_count": 8,
      "outputs": [
        {
          "output_type": "execute_result",
          "execution_count": 8,
          "data": {
            "text/plain": "array([[0.38462246, 0.80409084, 0.04258804],\n       [0.08319516, 0.38643379, 0.79375325],\n       [0.59954652, 0.60869509, 0.01011964],\n       [0.3461263 , 0.79690306, 0.21441207]])"
          },
          "metadata": {}
        }
      ]
    },
    {
      "metadata": {
        "trusted": true
      },
      "cell_type": "code",
      "source": "d=b.mul_(2) #multiplying our tensor by 2 to see corresponding change in our numpy array\nd",
      "execution_count": 9,
      "outputs": [
        {
          "output_type": "execute_result",
          "execution_count": 9,
          "data": {
            "text/plain": "tensor([[0.7692, 1.6082, 0.0852],\n        [0.1664, 0.7729, 1.5875],\n        [1.1991, 1.2174, 0.0202],\n        [0.6923, 1.5938, 0.4288]], dtype=torch.float64)"
          },
          "metadata": {}
        }
      ]
    },
    {
      "metadata": {
        "trusted": true
      },
      "cell_type": "code",
      "source": "c # shows numpy arrays also change with changes made in pytorch tensors.",
      "execution_count": 10,
      "outputs": [
        {
          "output_type": "execute_result",
          "execution_count": 10,
          "data": {
            "text/plain": "array([[0.76924492, 1.60818168, 0.08517608],\n       [0.16639032, 0.77286757, 1.5875065 ],\n       [1.19909304, 1.21739018, 0.02023929],\n       [0.69225261, 1.59380613, 0.42882414]])"
          },
          "metadata": {}
        }
      ]
    }
  ],
  "metadata": {
    "kernelspec": {
      "name": "python36",
      "display_name": "Python 3.6",
      "language": "python"
    },
    "language_info": {
      "mimetype": "text/x-python",
      "nbconvert_exporter": "python",
      "name": "python",
      "pygments_lexer": "ipython3",
      "version": "3.6.6",
      "file_extension": ".py",
      "codemirror_mode": {
        "version": 3,
        "name": "ipython"
      }
    }
  },
  "nbformat": 4,
  "nbformat_minor": 1
}