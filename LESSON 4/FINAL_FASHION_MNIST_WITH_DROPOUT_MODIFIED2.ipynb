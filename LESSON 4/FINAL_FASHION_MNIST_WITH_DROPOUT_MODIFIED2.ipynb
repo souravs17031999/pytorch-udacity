{
  "nbformat": 4,
  "nbformat_minor": 0,
  "metadata": {
    "colab": {
      "name": "FINAL_FASHION_MNIST_WITH_DROPOUT_MODIFIED2",
      "version": "0.3.2",
      "provenance": []
    },
    "kernelspec": {
      "name": "python3",
      "display_name": "Python 3"
    },
    "accelerator": "GPU"
  },
  "cells": [
    {
      "metadata": {
        "id": "rZFoBK4AIAyi",
        "colab_type": "code",
        "outputId": "cdd8680e-7d0c-40f7-f7b7-4aae496eb93c",
        "colab": {
          "base_uri": "https://localhost:8080/",
          "height": 54
        }
      },
      "cell_type": "code",
      "source": [
        "# http://pytorch.org/\n",
        "from os.path import exists\n",
        "from wheel.pep425tags import get_abbr_impl, get_impl_ver, get_abi_tag\n",
        "platform = '{}{}-{}'.format(get_abbr_impl(), get_impl_ver(), get_abi_tag())\n",
        "cuda_output = !ldconfig -p|grep cudart.so|sed -e 's/.*\\.\\([0-9]*\\)\\.\\([0-9]*\\)$/cu\\1\\2/'\n",
        "accelerator = cuda_output[0] if exists('/dev/nvidia0') else 'cpu'\n",
        "\n",
        "!pip install -q http://download.pytorch.org/whl/{accelerator}/torch-0.4.1-{platform}-linux_x86_64.whl torchvision\n",
        "import torch"
      ],
      "execution_count": 2,
      "outputs": [
        {
          "output_type": "stream",
          "text": [
            "tcmalloc: large alloc 1073750016 bytes == 0x58ece000 @  0x7fbf5dcf22a4 0x591a07 0x5b5d56 0x502e9a 0x506859 0x502209 0x502f3d 0x506859 0x504c28 0x502540 0x502f3d 0x506859 0x504c28 0x502540 0x502f3d 0x506859 0x504c28 0x502540 0x502f3d 0x507641 0x502209 0x502f3d 0x506859 0x504c28 0x502540 0x502f3d 0x507641 0x504c28 0x502540 0x502f3d 0x507641\n"
          ],
          "name": "stdout"
        }
      ]
    },
    {
      "metadata": {
        "id": "HlflMzNEIJQK",
        "colab_type": "code",
        "outputId": "fdb84880-f45e-4f44-9cb2-6d85bc888357",
        "colab": {
          "base_uri": "https://localhost:8080/",
          "height": 122
        }
      },
      "cell_type": "code",
      "source": [
        "import torch\n",
        "from torchvision import datasets, transforms\n",
        "# Define a transform to normalize the data\n",
        "transform = transforms.Compose([transforms.ToTensor(),\n",
        "                                transforms.Normalize((0.5, 0.5, 0.5), (0.5, 0.5, 0.5))])\n",
        "# Download and load the training data\n",
        "trainset = datasets.FashionMNIST('~/.pytorch/F_MNIST_data/', download=True, train=True, transform=transform)\n",
        "trainloader = torch.utils.data.DataLoader(trainset, batch_size=64, shuffle=True)\n",
        "\n",
        "# Download and load the test data\n",
        "testset = datasets.FashionMNIST('~/.pytorch/F_MNIST_data/', download=True, train=False, transform=transform)\n",
        "testloader = torch.utils.data.DataLoader(testset, batch_size=64, shuffle=True)"
      ],
      "execution_count": 3,
      "outputs": [
        {
          "output_type": "stream",
          "text": [
            "Downloading http://fashion-mnist.s3-website.eu-central-1.amazonaws.com/train-images-idx3-ubyte.gz\n",
            "Downloading http://fashion-mnist.s3-website.eu-central-1.amazonaws.com/train-labels-idx1-ubyte.gz\n",
            "Downloading http://fashion-mnist.s3-website.eu-central-1.amazonaws.com/t10k-images-idx3-ubyte.gz\n",
            "Downloading http://fashion-mnist.s3-website.eu-central-1.amazonaws.com/t10k-labels-idx1-ubyte.gz\n",
            "Processing...\n",
            "Done!\n"
          ],
          "name": "stdout"
        }
      ]
    },
    {
      "metadata": {
        "id": "t6sN5E4eILaU",
        "colab_type": "code",
        "outputId": "04c478b1-8645-4fea-cf55-731931b6cb06",
        "colab": {
          "base_uri": "https://localhost:8080/",
          "height": 210
        }
      },
      "cell_type": "code",
      "source": [
        "!wget -c https://raw.githubusercontent.com/udacity/deep-learning-v2-pytorch/master/intro-to-pytorch/helper.py"
      ],
      "execution_count": 4,
      "outputs": [
        {
          "output_type": "stream",
          "text": [
            "--2018-12-27 13:22:44--  https://raw.githubusercontent.com/udacity/deep-learning-v2-pytorch/master/intro-to-pytorch/helper.py\n",
            "Resolving raw.githubusercontent.com (raw.githubusercontent.com)... 151.101.0.133, 151.101.64.133, 151.101.128.133, ...\n",
            "Connecting to raw.githubusercontent.com (raw.githubusercontent.com)|151.101.0.133|:443... connected.\n",
            "HTTP request sent, awaiting response... 200 OK\n",
            "Length: 2813 (2.7K) [text/plain]\n",
            "Saving to: ‘helper.py’\n",
            "\n",
            "\rhelper.py             0%[                    ]       0  --.-KB/s               \rhelper.py           100%[===================>]   2.75K  --.-KB/s    in 0s      \n",
            "\n",
            "2018-12-27 13:22:44 (43.7 MB/s) - ‘helper.py’ saved [2813/2813]\n",
            "\n"
          ],
          "name": "stdout"
        }
      ]
    },
    {
      "metadata": {
        "id": "a5FFCtGfIPZS",
        "colab_type": "code",
        "outputId": "0f68d6b4-dbee-4af2-98d5-641cfdfc52d7",
        "colab": {
          "base_uri": "https://localhost:8080/",
          "height": 330
        }
      },
      "cell_type": "code",
      "source": [
        "import helper\n",
        "images, labels = next(iter(trainloader))\n",
        "helper.imshow(images[0,:]);"
      ],
      "execution_count": 5,
      "outputs": [
        {
          "output_type": "display_data",
          "data": {
            "image/png": "[encoded data removed]",
            "text/plain": [
              "<matplotlib.figure.Figure at 0x7fde2772e668>"
            ]
          },
          "metadata": {
            "tags": []
          }
        }
      ]
    },
    {
      "metadata": {
        "id": "hses2CPXIQ0L",
        "colab_type": "code",
        "colab": {}
      },
      "cell_type": "code",
      "source": [
        "from torch import nn\n",
        "import torch.nn.functional as F\n",
        "from torch import optim\n",
        "\n"
      ],
      "execution_count": 0,
      "outputs": []
    },
    {
      "metadata": {
        "id": "luq5s2rjITql",
        "colab_type": "code",
        "outputId": "b8c6591e-f92c-4567-9223-e914ceec19f4",
        "colab": {
          "base_uri": "https://localhost:8080/",
          "height": 545
        }
      },
      "cell_type": "code",
      "source": [
        "#changing some hyperparamters such as lr = 0.03 from 0.003.\n",
        "model = nn.Sequential(nn.Linear(784,256),nn.ReLU(),nn.Dropout(p=0.2),nn.Linear(256,10),nn.LogSoftmax(dim=1))\n",
        "\n",
        "criterion = nn.NLLLoss()\n",
        "\n",
        "optimizer = optim.SGD(model.parameters(),lr=0.03)\n",
        "\n",
        "epochs = 30\n",
        "steps = 0\n",
        "train_losses, test_losses = [], []\n",
        "\n",
        "\n",
        "for e in range(epochs):\n",
        "  running_loss = 0\n",
        "  for images , labels in trainloader:\n",
        "    optimizer.zero_grad()\n",
        "  \n",
        "    images = images.flatten(start_dim=1)\n",
        "  \n",
        "    output = model(images)\n",
        "  \n",
        "    loss = criterion(output,labels)\n",
        "  \n",
        "    loss.backward()\n",
        "  \n",
        "    optimizer.step()\n",
        "    \n",
        "    running_loss += loss.item()\n",
        "  else:\n",
        "    test_loss = 0\n",
        "    accuracy = 0\n",
        "    with torch.no_grad():\n",
        "      model.eval()\n",
        "      for images , labels in testloader:\n",
        "        images = images.flatten(start_dim=1)\n",
        "        log_ps = model(images)\n",
        "        test_loss += criterion(log_ps,labels)\n",
        "        \n",
        "        \n",
        "        ps = torch.exp(log_ps)\n",
        "        top_p , top_class = ps.topk(1,dim=1)\n",
        "        equals = top_class == labels.view(*top_class.shape)\n",
        "        accuracy += torch.mean(equals.type(torch.FloatTensor))    \n",
        "    model.train()\n",
        "    train_losses.append(running_loss/len(trainloader))\n",
        "    test_losses.append(test_loss/len(testloader))    \n",
        "    print(\"Epoch: {}/{}.. \".format(e+1, epochs),\"Training Loss: {:.3f}.. \".format(running_loss/len(trainloader)),\"Test Loss: {:.3f}.. \".format(test_loss/len(testloader)),\"Test Accuracy: {:.3f}\".format(accuracy/len(testloader)))\n",
        "    "
      ],
      "execution_count": 12,
      "outputs": [
        {
          "output_type": "stream",
          "text": [
            "Epoch: 1/30..  Training Loss: 0.633..  Test Loss: 0.496..  Test Accuracy: 0.820\n",
            "Epoch: 2/30..  Training Loss: 0.456..  Test Loss: 0.451..  Test Accuracy: 0.835\n",
            "Epoch: 3/30..  Training Loss: 0.416..  Test Loss: 0.455..  Test Accuracy: 0.829\n",
            "Epoch: 4/30..  Training Loss: 0.388..  Test Loss: 0.410..  Test Accuracy: 0.848\n",
            "Epoch: 5/30..  Training Loss: 0.372..  Test Loss: 0.395..  Test Accuracy: 0.855\n",
            "Epoch: 6/30..  Training Loss: 0.354..  Test Loss: 0.399..  Test Accuracy: 0.853\n",
            "Epoch: 7/30..  Training Loss: 0.343..  Test Loss: 0.376..  Test Accuracy: 0.862\n",
            "Epoch: 8/30..  Training Loss: 0.332..  Test Loss: 0.366..  Test Accuracy: 0.866\n",
            "Epoch: 9/30..  Training Loss: 0.323..  Test Loss: 0.359..  Test Accuracy: 0.869\n",
            "Epoch: 10/30..  Training Loss: 0.314..  Test Loss: 0.356..  Test Accuracy: 0.871\n",
            "Epoch: 11/30..  Training Loss: 0.307..  Test Loss: 0.355..  Test Accuracy: 0.871\n",
            "Epoch: 12/30..  Training Loss: 0.299..  Test Loss: 0.350..  Test Accuracy: 0.875\n",
            "Epoch: 13/30..  Training Loss: 0.292..  Test Loss: 0.345..  Test Accuracy: 0.878\n",
            "Epoch: 14/30..  Training Loss: 0.287..  Test Loss: 0.342..  Test Accuracy: 0.876\n",
            "Epoch: 15/30..  Training Loss: 0.281..  Test Loss: 0.335..  Test Accuracy: 0.880\n",
            "Epoch: 16/30..  Training Loss: 0.275..  Test Loss: 0.340..  Test Accuracy: 0.878\n",
            "Epoch: 17/30..  Training Loss: 0.270..  Test Loss: 0.327..  Test Accuracy: 0.885\n",
            "Epoch: 18/30..  Training Loss: 0.265..  Test Loss: 0.325..  Test Accuracy: 0.882\n",
            "Epoch: 19/30..  Training Loss: 0.260..  Test Loss: 0.324..  Test Accuracy: 0.884\n",
            "Epoch: 20/30..  Training Loss: 0.258..  Test Loss: 0.325..  Test Accuracy: 0.884\n",
            "Epoch: 21/30..  Training Loss: 0.251..  Test Loss: 0.326..  Test Accuracy: 0.884\n",
            "Epoch: 22/30..  Training Loss: 0.250..  Test Loss: 0.316..  Test Accuracy: 0.889\n",
            "Epoch: 23/30..  Training Loss: 0.245..  Test Loss: 0.328..  Test Accuracy: 0.884\n",
            "Epoch: 24/30..  Training Loss: 0.242..  Test Loss: 0.328..  Test Accuracy: 0.882\n",
            "Epoch: 25/30..  Training Loss: 0.237..  Test Loss: 0.318..  Test Accuracy: 0.886\n",
            "Epoch: 26/30..  Training Loss: 0.233..  Test Loss: 0.316..  Test Accuracy: 0.887\n",
            "Epoch: 27/30..  Training Loss: 0.230..  Test Loss: 0.330..  Test Accuracy: 0.885\n",
            "Epoch: 28/30..  Training Loss: 0.227..  Test Loss: 0.314..  Test Accuracy: 0.889\n",
            "Epoch: 29/30..  Training Loss: 0.223..  Test Loss: 0.315..  Test Accuracy: 0.891\n",
            "Epoch: 30/30..  Training Loss: 0.221..  Test Loss: 0.310..  Test Accuracy: 0.886\n"
          ],
          "name": "stdout"
        }
      ]
    },
    {
      "metadata": {
        "id": "JM33_3p58ZhP",
        "colab_type": "code",
        "colab": {}
      },
      "cell_type": "code",
      "source": [
        "%matplotlib inline\n",
        "%config InlineBackend.figure_format = 'retina'\n",
        "\n",
        "import matplotlib.pyplot as plt"
      ],
      "execution_count": 0,
      "outputs": []
    },
    {
      "metadata": {
        "id": "b0ImkWz3-N2u",
        "colab_type": "code",
        "outputId": "468a91c4-ce65-47c4-a8b7-e2dde73144f2",
        "colab": {
          "base_uri": "https://localhost:8080/",
          "height": 282
        }
      },
      "cell_type": "code",
      "source": [
        "plt.plot(train_losses, label='Training loss')\n",
        "plt.plot(test_losses, label='Validation loss')\n",
        "plt.legend(frameon=False)"
      ],
      "execution_count": 15,
      "outputs": [
        {
          "output_type": "execute_result",
          "data": {
            "text/plain": [
              "<matplotlib.legend.Legend at 0x7fddc846f828>"
            ]
          },
          "metadata": {
            "tags": []
          },
          "execution_count": 15
        },
        {
          "output_type": "display_data",
          "data": {
            "image/png": "[encoded data removed]",
            "text/plain": [
              "<matplotlib.figure.Figure at 0x7fddcc7aaf98>"
            ]
          },
          "metadata": {
            "tags": [],
            "image/png": {
              "width": 370,
              "height": 248
            }
          }
        }
      ]
    },
    {
      "metadata": {
        "id": "imz4F0fkHS56",
        "colab_type": "code",
        "colab": {}
      },
      "cell_type": "code",
      "source": [
        "print(model)"
      ],
      "execution_count": 0,
      "outputs": []
    },
    {
      "metadata": {
        "id": "bPUUAxCcHYky",
        "colab_type": "code",
        "colab": {}
      },
      "cell_type": "code",
      "source": [
        "print(model.state_dict().keys())"
      ],
      "execution_count": 0,
      "outputs": []
    },
    {
      "metadata": {
        "id": "osdCchj5I9H_",
        "colab_type": "code",
        "colab": {}
      },
      "cell_type": "code",
      "source": [
        ""
      ],
      "execution_count": 0,
      "outputs": []
    }
  ]
}