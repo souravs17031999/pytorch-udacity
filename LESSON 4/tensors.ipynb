{
  "cells": [
    {
      "metadata": {
        "collapsed": true
      },
      "cell_type": "markdown",
      "source": "# Introduction to Tensors"
    },
    {
      "metadata": {},
      "cell_type": "markdown",
      "source": "PyTorch tensors are basic data structures replacement for numpy arrays for flexibility and speed."
    },
    {
      "metadata": {
        "trusted": true
      },
      "cell_type": "code",
      "source": "import torch",
      "execution_count": 1,
      "outputs": []
    },
    {
      "metadata": {
        "trusted": true
      },
      "cell_type": "code",
      "source": "#Construct a 5x3 matrix, uninitialized:\nx=torch.empty(5,3)\nprint(x)",
      "execution_count": 2,
      "outputs": [
        {
          "output_type": "stream",
          "text": "tensor([[-4.5931e-37,  4.5900e-41, -4.5931e-37],\n        [ 4.5900e-41,  7.1449e+31,  9.1041e-12],\n        [ 6.9983e+28,  9.5725e-40,  1.8524e+28],\n        [ 6.2608e+22,  4.7428e+30,  1.1096e+27],\n        [ 2.7518e+12,  7.5338e+28,  7.5782e+31]])\n",
          "name": "stdout"
        }
      ]
    },
    {
      "metadata": {
        "trusted": true
      },
      "cell_type": "code",
      "source": "#creating a tensor from python lists\nl=[1,2,3,4,5]\nx=torch.tensor(l)\nprint(x)",
      "execution_count": 4,
      "outputs": [
        {
          "output_type": "stream",
          "text": "tensor([1, 2, 3, 4, 5])\n",
          "name": "stdout"
        }
      ]
    },
    {
      "metadata": {
        "trusted": true
      },
      "cell_type": "code",
      "source": "#Construct a randomly initialized matrix:\nx=torch.rand(5,3)\nprint(x)",
      "execution_count": 5,
      "outputs": [
        {
          "output_type": "stream",
          "text": "tensor([[0.3717, 0.8227, 0.8615],\n        [0.2906, 0.9239, 0.4888],\n        [0.0683, 0.6150, 0.7610],\n        [0.4340, 0.5223, 0.9897],\n        [0.3097, 0.9726, 0.0254]])\n",
          "name": "stdout"
        }
      ]
    },
    {
      "metadata": {
        "trusted": true
      },
      "cell_type": "code",
      "source": "#Construct a matrix filled zeros and of dtype long:\nx=torch.zeros(5,3,dtype=torch.long)\nprint(x)",
      "execution_count": 10,
      "outputs": [
        {
          "output_type": "stream",
          "text": "tensor([[0, 0, 0],\n        [0, 0, 0],\n        [0, 0, 0],\n        [0, 0, 0],\n        [0, 0, 0]])\n",
          "name": "stdout"
        }
      ]
    },
    {
      "metadata": {
        "trusted": true
      },
      "cell_type": "code",
      "source": "x = torch.randn_like(x, dtype=torch.float)    # override dtype!\nprint(x)           ",
      "execution_count": 11,
      "outputs": [
        {
          "output_type": "stream",
          "text": "tensor([[-0.6224,  0.0548, -0.4763],\n        [-1.2553, -0.0773,  0.5307],\n        [ 0.3632, -2.1453,  0.7655],\n        [ 0.0387, -0.5814, -0.4218],\n        [-0.0531, -0.1468,  0.3699]])\n",
          "name": "stdout"
        }
      ]
    },
    {
      "metadata": {
        "trusted": true
      },
      "cell_type": "code",
      "source": "#creating tensor of numbers chosen from normal distribution whose mean is 0 and std deviation is 1.\nx=torch.randn(3,3)\nprint(x)\ny=torch.randn_like(x) #has same shape as x\nprint(y)",
      "execution_count": 14,
      "outputs": [
        {
          "output_type": "stream",
          "text": "tensor([[ 0.4182, -0.9845,  1.2908],\n        [ 0.2575, -1.4836,  2.8398],\n        [-1.1411,  0.8935,  1.0237]])\ntensor([[ 2.4598,  0.7546, -1.3402],\n        [-0.8772, -0.4061,  1.8399],\n        [ 1.6120, -2.4337,  1.3197]])\n",
          "name": "stdout"
        }
      ]
    },
    {
      "metadata": {
        "trusted": true
      },
      "cell_type": "code",
      "source": "print(x.shape)\nprint(y.shape)",
      "execution_count": 16,
      "outputs": [
        {
          "output_type": "stream",
          "text": "torch.Size([3, 3])\ntorch.Size([3, 3])\n",
          "name": "stdout"
        }
      ]
    },
    {
      "metadata": {
        "trusted": true
      },
      "cell_type": "code",
      "source": "#adding two tensors\nprint(x+y)\n#or using torch.add(x,y)\nprint(torch.add(x,y))",
      "execution_count": 18,
      "outputs": [
        {
          "output_type": "stream",
          "text": "tensor([[ 2.8780, -0.2300, -0.0494],\n        [-0.6197, -1.8896,  4.6797],\n        [ 0.4709, -1.5402,  2.3434]])\ntensor([[ 2.8780, -0.2300, -0.0494],\n        [-0.6197, -1.8896,  4.6797],\n        [ 0.4709, -1.5402,  2.3434]])\n",
          "name": "stdout"
        }
      ]
    },
    {
      "metadata": {
        "trusted": true
      },
      "cell_type": "code",
      "source": "x = torch.randn(4, 4)\ny = x.view(16)\nprint(x)\nprint(y)",
      "execution_count": 33,
      "outputs": [
        {
          "output_type": "stream",
          "text": "tensor([[-0.1256, -0.4845,  0.7244, -0.6450],\n        [ 0.3046,  0.2016,  0.4065, -0.0560],\n        [-1.1119,  0.5331,  0.9588,  0.0268],\n        [-1.7238, -1.3124,  0.4045,  0.2065]])\ntensor([-0.1256, -0.4845,  0.7244, -0.6450,  0.3046,  0.2016,  0.4065, -0.0560,\n        -1.1119,  0.5331,  0.9588,  0.0268, -1.7238, -1.3124,  0.4045,  0.2065])\n",
          "name": "stdout"
        }
      ]
    },
    {
      "metadata": {
        "trusted": true
      },
      "cell_type": "code",
      "source": "z=x.view(1,16)\nprint(z)\np=x.view(16,1)\nprint(z)\nprint(x.shape)\nprint(y.shape)\nprint(z.shape)\nprint(p.shape)",
      "execution_count": 39,
      "outputs": [
        {
          "output_type": "stream",
          "text": "tensor([[-0.1256, -0.4845,  0.7244, -0.6450,  0.3046,  0.2016,  0.4065, -0.0560,\n         -1.1119,  0.5331,  0.9588,  0.0268, -1.7238, -1.3124,  0.4045,  0.2065]])\ntensor([[-0.1256, -0.4845,  0.7244, -0.6450,  0.3046,  0.2016,  0.4065, -0.0560,\n         -1.1119,  0.5331,  0.9588,  0.0268, -1.7238, -1.3124,  0.4045,  0.2065]])\ntorch.Size([4, 4])\ntorch.Size([16])\ntorch.Size([1, 16])\ntorch.Size([16, 1])\n",
          "name": "stdout"
        }
      ]
    },
    {
      "metadata": {
        "trusted": true
      },
      "cell_type": "code",
      "source": "#pytorch automatically calculates required rows if columns are given and vice versa and we specify it by giving it \"-1\" \nm=x.view(-1,16)\nprint(m)",
      "execution_count": 40,
      "outputs": [
        {
          "output_type": "stream",
          "text": "tensor([[-0.1256, -0.4845,  0.7244, -0.6450,  0.3046,  0.2016,  0.4065, -0.0560,\n         -1.1119,  0.5331,  0.9588,  0.0268, -1.7238, -1.3124,  0.4045,  0.2065]])\n",
          "name": "stdout"
        }
      ]
    },
    {
      "metadata": {
        "trusted": true
      },
      "cell_type": "code",
      "source": "l=m.view(-1,4)\nprint(l)",
      "execution_count": 41,
      "outputs": [
        {
          "output_type": "stream",
          "text": "tensor([[-0.1256, -0.4845,  0.7244, -0.6450],\n        [ 0.3046,  0.2016,  0.4065, -0.0560],\n        [-1.1119,  0.5331,  0.9588,  0.0268],\n        [-1.7238, -1.3124,  0.4045,  0.2065]])\n",
          "name": "stdout"
        }
      ]
    },
    {
      "metadata": {
        "trusted": true
      },
      "cell_type": "code",
      "source": "c=x.view(-1,8)\nprint(c)",
      "execution_count": 42,
      "outputs": [
        {
          "output_type": "stream",
          "text": "tensor([[-0.1256, -0.4845,  0.7244, -0.6450,  0.3046,  0.2016,  0.4065, -0.0560],\n        [-1.1119,  0.5331,  0.9588,  0.0268, -1.7238, -1.3124,  0.4045,  0.2065]])\n",
          "name": "stdout"
        }
      ]
    },
    {
      "metadata": {
        "trusted": true
      },
      "cell_type": "code",
      "source": "f=torch.randn(5,)\nprint(f)",
      "execution_count": 59,
      "outputs": [
        {
          "output_type": "stream",
          "text": "tensor([ 1.9283, -0.5242, -0.3831,  1.0091,  0.6448])\n",
          "name": "stdout"
        }
      ]
    }
  ],
  "metadata": {
    "kernelspec": {
      "name": "python36",
      "display_name": "Python 3.6",
      "language": "python"
    },
    "language_info": {
      "mimetype": "text/x-python",
      "nbconvert_exporter": "python",
      "name": "python",
      "pygments_lexer": "ipython3",
      "version": "3.6.6",
      "file_extension": ".py",
      "codemirror_mode": {
        "version": 3,
        "name": "ipython"
      }
    }
  },
  "nbformat": 4,
  "nbformat_minor": 2
}