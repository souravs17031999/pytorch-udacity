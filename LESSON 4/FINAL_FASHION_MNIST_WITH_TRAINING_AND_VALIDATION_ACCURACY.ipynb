{
  "nbformat": 4,
  "nbformat_minor": 0,
  "metadata": {
    "colab": {
      "name": "FINAL_FASHION_MNIST_WITH_TRAINING_AND_VALIDATION_ACCURACY",
      "version": "0.3.2",
      "provenance": []
    },
    "kernelspec": {
      "name": "python3",
      "display_name": "Python 3"
    },
    "accelerator": "GPU"
  },
  "cells": [
    {
      "metadata": {
        "id": "rZFoBK4AIAyi",
        "colab_type": "code",
        "colab": {
          "base_uri": "https://localhost:8080/",
          "height": 54
        },
        "outputId": "1d138705-dfb3-41d1-c291-b8dc725c82a2"
      },
      "cell_type": "code",
      "source": [
        "# http://pytorch.org/\n",
        "from os.path import exists\n",
        "from wheel.pep425tags import get_abbr_impl, get_impl_ver, get_abi_tag\n",
        "platform = '{}{}-{}'.format(get_abbr_impl(), get_impl_ver(), get_abi_tag())\n",
        "cuda_output = !ldconfig -p|grep cudart.so|sed -e 's/.*\\.\\([0-9]*\\)\\.\\([0-9]*\\)$/cu\\1\\2/'\n",
        "accelerator = cuda_output[0] if exists('/dev/nvidia0') else 'cpu'\n",
        "\n",
        "!pip install -q http://download.pytorch.org/whl/{accelerator}/torch-0.4.1-{platform}-linux_x86_64.whl torchvision\n",
        "import torch"
      ],
      "execution_count": 1,
      "outputs": [
        {
          "output_type": "stream",
          "text": [
            "tcmalloc: large alloc 1073750016 bytes == 0x5881a000 @  0x7f4f5e3cc2a4 0x591a07 0x5b5d56 0x502e9a 0x506859 0x502209 0x502f3d 0x506859 0x504c28 0x502540 0x502f3d 0x506859 0x504c28 0x502540 0x502f3d 0x506859 0x504c28 0x502540 0x502f3d 0x507641 0x502209 0x502f3d 0x506859 0x504c28 0x502540 0x502f3d 0x507641 0x504c28 0x502540 0x502f3d 0x507641\n"
          ],
          "name": "stdout"
        }
      ]
    },
    {
      "metadata": {
        "id": "HlflMzNEIJQK",
        "colab_type": "code",
        "colab": {
          "base_uri": "https://localhost:8080/",
          "height": 122
        },
        "outputId": "a28c6b34-3bb6-447c-f0ec-d2d8ae642222"
      },
      "cell_type": "code",
      "source": [
        "import torch\n",
        "from torchvision import datasets, transforms\n",
        "# Define a transform to normalize the data\n",
        "transform = transforms.Compose([transforms.ToTensor(),\n",
        "                                transforms.Normalize((0.5, 0.5, 0.5), (0.5, 0.5, 0.5))])\n",
        "# Download and load the training data\n",
        "trainset = datasets.FashionMNIST('~/.pytorch/F_MNIST_data/', download=True, train=True, transform=transform)\n",
        "trainloader = torch.utils.data.DataLoader(trainset, batch_size=64, shuffle=True)\n",
        "\n",
        "# Download and load the test data\n",
        "testset = datasets.FashionMNIST('~/.pytorch/F_MNIST_data/', download=True, train=False, transform=transform)\n",
        "testloader = torch.utils.data.DataLoader(testset, batch_size=64, shuffle=True)"
      ],
      "execution_count": 2,
      "outputs": [
        {
          "output_type": "stream",
          "text": [
            "Downloading http://fashion-mnist.s3-website.eu-central-1.amazonaws.com/train-images-idx3-ubyte.gz\n",
            "Downloading http://fashion-mnist.s3-website.eu-central-1.amazonaws.com/train-labels-idx1-ubyte.gz\n",
            "Downloading http://fashion-mnist.s3-website.eu-central-1.amazonaws.com/t10k-images-idx3-ubyte.gz\n",
            "Downloading http://fashion-mnist.s3-website.eu-central-1.amazonaws.com/t10k-labels-idx1-ubyte.gz\n",
            "Processing...\n",
            "Done!\n"
          ],
          "name": "stdout"
        }
      ]
    },
    {
      "metadata": {
        "id": "t6sN5E4eILaU",
        "colab_type": "code",
        "outputId": "b8b9c9ba-61bf-419d-c95a-2c0e1a8ea998",
        "colab": {
          "base_uri": "https://localhost:8080/",
          "height": 210
        }
      },
      "cell_type": "code",
      "source": [
        "!wget -c https://raw.githubusercontent.com/udacity/deep-learning-v2-pytorch/master/intro-to-pytorch/helper.py"
      ],
      "execution_count": 3,
      "outputs": [
        {
          "output_type": "stream",
          "text": [
            "--2018-12-26 09:30:12--  https://raw.githubusercontent.com/udacity/deep-learning-v2-pytorch/master/intro-to-pytorch/helper.py\n",
            "Resolving raw.githubusercontent.com (raw.githubusercontent.com)... 151.101.0.133, 151.101.64.133, 151.101.128.133, ...\n",
            "Connecting to raw.githubusercontent.com (raw.githubusercontent.com)|151.101.0.133|:443... connected.\n",
            "HTTP request sent, awaiting response... 200 OK\n",
            "Length: 2813 (2.7K) [text/plain]\n",
            "Saving to: ‘helper.py’\n",
            "\n",
            "\rhelper.py             0%[                    ]       0  --.-KB/s               \rhelper.py           100%[===================>]   2.75K  --.-KB/s    in 0s      \n",
            "\n",
            "2018-12-26 09:30:13 (59.8 MB/s) - ‘helper.py’ saved [2813/2813]\n",
            "\n"
          ],
          "name": "stdout"
        }
      ]
    },
    {
      "metadata": {
        "id": "a5FFCtGfIPZS",
        "colab_type": "code",
        "outputId": "9de75b82-f655-4b03-cc29-3828ca923472",
        "colab": {
          "base_uri": "https://localhost:8080/",
          "height": 330
        }
      },
      "cell_type": "code",
      "source": [
        "import helper\n",
        "images, labels = next(iter(trainloader))\n",
        "helper.imshow(images[0,:]);"
      ],
      "execution_count": 4,
      "outputs": [
        {
          "output_type": "display_data",
          "data": {
            "image/png": "[encoded data removed]",
            "text/plain": [
              "<matplotlib.figure.Figure at 0x7fd96ceed668>"
            ]
          },
          "metadata": {
            "tags": []
          }
        }
      ]
    },
    {
      "metadata": {
        "id": "hses2CPXIQ0L",
        "colab_type": "code",
        "colab": {}
      },
      "cell_type": "code",
      "source": [
        "from torch import nn\n",
        "import torch.nn.functional as F\n",
        "from torch import optim\n",
        "\n"
      ],
      "execution_count": 0,
      "outputs": []
    },
    {
      "metadata": {
        "id": "luq5s2rjITql",
        "colab_type": "code",
        "outputId": "b969f0fe-bb3e-467e-cbe6-77a86b4bc2b7",
        "colab": {
          "base_uri": "https://localhost:8080/",
          "height": 545
        }
      },
      "cell_type": "code",
      "source": [
        "model = nn.Sequential(nn.Linear(784,256),nn.ReLU(),nn.Linear(256,10),nn.LogSoftmax(dim=1))\n",
        "\n",
        "criterion = nn.NLLLoss()\n",
        "\n",
        "optimizer = optim.SGD(model.parameters(),lr=0.003)\n",
        "\n",
        "epochs = 30\n",
        "steps = 0\n",
        "train_losses, test_losses = [], []\n",
        "\n",
        "\n",
        "for e in range(epochs):\n",
        "  running_loss = 0\n",
        "  for images , labels in trainloader:\n",
        "    optimizer.zero_grad()\n",
        "  \n",
        "    images = images.flatten(start_dim=1)\n",
        "  \n",
        "    output = model(images)\n",
        "  \n",
        "    loss = criterion(output,labels)\n",
        "  \n",
        "    loss.backward()\n",
        "  \n",
        "    optimizer.step()\n",
        "    \n",
        "    running_loss += loss.item()\n",
        "  else:\n",
        "    test_loss = 0\n",
        "    accuracy = 0\n",
        "    with torch.no_grad():\n",
        "      for images , labels in testloader:\n",
        "        images = images.flatten(start_dim=1)\n",
        "        log_ps = model(images)\n",
        "        test_loss += criterion(log_ps,labels)\n",
        "        \n",
        "        \n",
        "        ps = torch.exp(log_ps)\n",
        "        top_p , top_class = ps.topk(1,dim=1)\n",
        "        equals = top_class == labels.view(*top_class.shape)\n",
        "        accuracy += torch.mean(equals.type(torch.FloatTensor))\n",
        "    train_losses.append(running_loss/len(trainloader))\n",
        "    test_losses.append(test_loss/len(testloader))    \n",
        "    print(\"Epoch: {}/{}.. \".format(e+1, epochs),\"Training Loss: {:.3f}.. \".format(running_loss/len(trainloader)),\"Test Loss: {:.3f}.. \".format(test_loss/len(testloader)),\"Test Accuracy: {:.3f}\".format(accuracy/len(testloader)))\n"
      ],
      "execution_count": 6,
      "outputs": [
        {
          "output_type": "stream",
          "text": [
            "Epoch: 1/30..  Training Loss: 1.125..  Test Loss: 0.767..  Test Accuracy: 0.743\n",
            "Epoch: 2/30..  Training Loss: 0.677..  Test Loss: 0.643..  Test Accuracy: 0.778\n",
            "Epoch: 3/30..  Training Loss: 0.593..  Test Loss: 0.587..  Test Accuracy: 0.794\n",
            "Epoch: 4/30..  Training Loss: 0.548..  Test Loss: 0.555..  Test Accuracy: 0.803\n",
            "Epoch: 5/30..  Training Loss: 0.519..  Test Loss: 0.535..  Test Accuracy: 0.809\n",
            "Epoch: 6/30..  Training Loss: 0.499..  Test Loss: 0.518..  Test Accuracy: 0.814\n",
            "Epoch: 7/30..  Training Loss: 0.483..  Test Loss: 0.503..  Test Accuracy: 0.820\n",
            "Epoch: 8/30..  Training Loss: 0.470..  Test Loss: 0.495..  Test Accuracy: 0.824\n",
            "Epoch: 9/30..  Training Loss: 0.459..  Test Loss: 0.487..  Test Accuracy: 0.828\n",
            "Epoch: 10/30..  Training Loss: 0.450..  Test Loss: 0.479..  Test Accuracy: 0.828\n",
            "Epoch: 11/30..  Training Loss: 0.443..  Test Loss: 0.473..  Test Accuracy: 0.832\n",
            "Epoch: 12/30..  Training Loss: 0.436..  Test Loss: 0.465..  Test Accuracy: 0.835\n",
            "Epoch: 13/30..  Training Loss: 0.429..  Test Loss: 0.460..  Test Accuracy: 0.837\n",
            "Epoch: 14/30..  Training Loss: 0.424..  Test Loss: 0.457..  Test Accuracy: 0.839\n",
            "Epoch: 15/30..  Training Loss: 0.418..  Test Loss: 0.452..  Test Accuracy: 0.837\n",
            "Epoch: 16/30..  Training Loss: 0.413..  Test Loss: 0.446..  Test Accuracy: 0.843\n",
            "Epoch: 17/30..  Training Loss: 0.409..  Test Loss: 0.442..  Test Accuracy: 0.844\n",
            "Epoch: 18/30..  Training Loss: 0.404..  Test Loss: 0.439..  Test Accuracy: 0.842\n",
            "Epoch: 19/30..  Training Loss: 0.400..  Test Loss: 0.438..  Test Accuracy: 0.842\n",
            "Epoch: 20/30..  Training Loss: 0.396..  Test Loss: 0.432..  Test Accuracy: 0.847\n",
            "Epoch: 21/30..  Training Loss: 0.392..  Test Loss: 0.430..  Test Accuracy: 0.847\n",
            "Epoch: 22/30..  Training Loss: 0.389..  Test Loss: 0.425..  Test Accuracy: 0.849\n",
            "Epoch: 23/30..  Training Loss: 0.385..  Test Loss: 0.425..  Test Accuracy: 0.850\n",
            "Epoch: 24/30..  Training Loss: 0.382..  Test Loss: 0.422..  Test Accuracy: 0.850\n",
            "Epoch: 25/30..  Training Loss: 0.379..  Test Loss: 0.418..  Test Accuracy: 0.848\n",
            "Epoch: 26/30..  Training Loss: 0.376..  Test Loss: 0.416..  Test Accuracy: 0.851\n",
            "Epoch: 27/30..  Training Loss: 0.373..  Test Loss: 0.412..  Test Accuracy: 0.853\n",
            "Epoch: 28/30..  Training Loss: 0.371..  Test Loss: 0.418..  Test Accuracy: 0.850\n",
            "Epoch: 29/30..  Training Loss: 0.368..  Test Loss: 0.410..  Test Accuracy: 0.854\n",
            "Epoch: 30/30..  Training Loss: 0.365..  Test Loss: 0.407..  Test Accuracy: 0.855\n"
          ],
          "name": "stdout"
        }
      ]
    },
    {
      "metadata": {
        "id": "JM33_3p58ZhP",
        "colab_type": "code",
        "colab": {}
      },
      "cell_type": "code",
      "source": [
        "%matplotlib inline\n",
        "%config InlineBackend.figure_format = 'retina'\n",
        "\n",
        "import matplotlib.pyplot as plt"
      ],
      "execution_count": 0,
      "outputs": []
    },
    {
      "metadata": {
        "id": "b0ImkWz3-N2u",
        "colab_type": "code",
        "colab": {
          "base_uri": "https://localhost:8080/",
          "height": 282
        },
        "outputId": "baba193c-4dcc-4a72-ec66-1137db1b4dc4"
      },
      "cell_type": "code",
      "source": [
        "plt.plot(train_losses, label='Training loss')\n",
        "plt.plot(test_losses, label='Validation loss')\n",
        "plt.legend(frameon=False)"
      ],
      "execution_count": 8,
      "outputs": [
        {
          "output_type": "execute_result",
          "data": {
            "text/plain": [
              "<matplotlib.legend.Legend at 0x7fd911deb978>"
            ]
          },
          "metadata": {
            "tags": []
          },
          "execution_count": 8
        },
        {
          "output_type": "display_data",
          "data": {
            "image/png": "[encoded data removed]",
            "text/plain": [
              "<matplotlib.figure.Figure at 0x7fd911de1a90>"
            ]
          },
          "metadata": {
            "tags": [],
            "image/png": {
              "width": 370,
              "height": 248
            }
          }
        }
      ]
    }
  ]
}