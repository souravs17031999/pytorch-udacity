{
  "nbformat": 4,
  "nbformat_minor": 0,
  "metadata": {
    "colab": {
      "name": "FINAL_FASHION_MNIST_WITH_TRAINING_AND_VALIDATION_ACCURACY",
      "version": "0.3.2",
      "provenance": []
    },
    "kernelspec": {
      "name": "python3",
      "display_name": "Python 3"
    },
    "accelerator": "GPU"
  },
  "cells": [
    {
      "metadata": {
        "id": "rZFoBK4AIAyi",
        "colab_type": "code",
        "colab": {}
      },
      "cell_type": "code",
      "source": [
        "# http://pytorch.org/\n",
        "from os.path import exists\n",
        "from wheel.pep425tags import get_abbr_impl, get_impl_ver, get_abi_tag\n",
        "platform = '{}{}-{}'.format(get_abbr_impl(), get_impl_ver(), get_abi_tag())\n",
        "cuda_output = !ldconfig -p|grep cudart.so|sed -e 's/.*\\.\\([0-9]*\\)\\.\\([0-9]*\\)$/cu\\1\\2/'\n",
        "accelerator = cuda_output[0] if exists('/dev/nvidia0') else 'cpu'\n",
        "\n",
        "!pip install -q http://download.pytorch.org/whl/{accelerator}/torch-0.4.1-{platform}-linux_x86_64.whl torchvision\n",
        "import torch"
      ],
      "execution_count": 0,
      "outputs": []
    },
    {
      "metadata": {
        "id": "HlflMzNEIJQK",
        "colab_type": "code",
        "colab": {}
      },
      "cell_type": "code",
      "source": [
        "import torch\n",
        "from torchvision import datasets, transforms\n",
        "# Define a transform to normalize the data\n",
        "transform = transforms.Compose([transforms.ToTensor(),\n",
        "                                transforms.Normalize((0.5, 0.5, 0.5), (0.5, 0.5, 0.5))])\n",
        "# Download and load the training data\n",
        "trainset = datasets.FashionMNIST('~/.pytorch/F_MNIST_data/', download=True, train=True, transform=transform)\n",
        "trainloader = torch.utils.data.DataLoader(trainset, batch_size=64, shuffle=True)\n",
        "\n",
        "# Download and load the test data\n",
        "testset = datasets.FashionMNIST('~/.pytorch/F_MNIST_data/', download=True, train=False, transform=transform)\n",
        "testloader = torch.utils.data.DataLoader(testset, batch_size=64, shuffle=True)"
      ],
      "execution_count": 0,
      "outputs": []
    },
    {
      "metadata": {
        "id": "t6sN5E4eILaU",
        "colab_type": "code",
        "colab": {
          "base_uri": "https://localhost:8080/",
          "height": 140
        },
        "outputId": "2d156890-8c13-4571-be43-9a0e98a8823a"
      },
      "cell_type": "code",
      "source": [
        "!wget -c https://raw.githubusercontent.com/udacity/deep-learning-v2-pytorch/master/intro-to-pytorch/helper.py"
      ],
      "execution_count": 3,
      "outputs": [
        {
          "output_type": "stream",
          "text": [
            "--2018-12-26 06:02:52--  https://raw.githubusercontent.com/udacity/deep-learning-v2-pytorch/master/intro-to-pytorch/helper.py\n",
            "Resolving raw.githubusercontent.com (raw.githubusercontent.com)... 151.101.0.133, 151.101.64.133, 151.101.128.133, ...\n",
            "Connecting to raw.githubusercontent.com (raw.githubusercontent.com)|151.101.0.133|:443... connected.\n",
            "HTTP request sent, awaiting response... 416 Range Not Satisfiable\n",
            "\n",
            "    The file is already fully retrieved; nothing to do.\n",
            "\n"
          ],
          "name": "stdout"
        }
      ]
    },
    {
      "metadata": {
        "id": "a5FFCtGfIPZS",
        "colab_type": "code",
        "colab": {
          "base_uri": "https://localhost:8080/",
          "height": 330
        },
        "outputId": "329eccce-1280-4d50-b4cc-1f326f0c5803"
      },
      "cell_type": "code",
      "source": [
        "import helper\n",
        "images, labels = next(iter(trainloader))\n",
        "helper.imshow(images[0,:]);"
      ],
      "execution_count": 4,
      "outputs": [
        {
          "output_type": "display_data",
          "data": {
            "image/png": "[encoded data removed]",
            "text/plain": [
              "<matplotlib.figure.Figure at 0x7f6dda368588>"
            ]
          },
          "metadata": {
            "tags": []
          }
        }
      ]
    },
    {
      "metadata": {
        "id": "hses2CPXIQ0L",
        "colab_type": "code",
        "colab": {}
      },
      "cell_type": "code",
      "source": [
        "from torch import nn\n",
        "import torch.nn.functional as F\n",
        "from torch import optim\n",
        "\n"
      ],
      "execution_count": 0,
      "outputs": []
    },
    {
      "metadata": {
        "id": "luq5s2rjITql",
        "colab_type": "code",
        "colab": {
          "base_uri": "https://localhost:8080/",
          "height": 545
        },
        "outputId": "5eb15862-a522-43a9-edb3-4378cce5d566"
      },
      "cell_type": "code",
      "source": [
        "model = nn.Sequential(nn.Linear(784,256),nn.ReLU(),nn.Linear(256,10),nn.LogSoftmax(dim=1))\n",
        "\n",
        "criterion = nn.NLLLoss()\n",
        "\n",
        "optimizer = optim.SGD(model.parameters(),lr=0.003)\n",
        "\n",
        "epochs = 30\n",
        "steps = 0\n",
        "train_losses, test_losses = [], []\n",
        "\n",
        "\n",
        "for e in range(epochs):\n",
        "  running_loss = 0\n",
        "  for images , labels in trainloader:\n",
        "    optimizer.zero_grad()\n",
        "  \n",
        "    images = images.flatten(start_dim=1)\n",
        "  \n",
        "    output = model(images)\n",
        "  \n",
        "    loss = criterion(output,labels)\n",
        "  \n",
        "    loss.backward()\n",
        "  \n",
        "    optimizer.step()\n",
        "    \n",
        "    running_loss += loss.item()\n",
        "  else:\n",
        "    test_loss = 0\n",
        "    accuracy = 0\n",
        "    with torch.no_grad():\n",
        "      for images , labels in testloader:\n",
        "        images = images.flatten(start_dim=1)\n",
        "        log_ps = model(images)\n",
        "        test_loss += criterion(log_ps,labels)\n",
        "        \n",
        "        \n",
        "        ps = torch.exp(log_ps)\n",
        "        top_p , top_class = ps.topk(1,dim=1)\n",
        "        equals = top_class == labels.view(*top_class.shape)\n",
        "        accuracy += torch.mean(equals.type(torch.FloatTensor))\n",
        "    train_losses.append(running_loss/len(trainloader))\n",
        "    test_losses.append(test_loss/len(testloader))    \n",
        "    print(\"Epoch: {}/{}.. \".format(e+1, epochs),\"Training Loss: {:.3f}.. \".format(running_loss/len(trainloader)),\"Test Loss: {:.3f}.. \".format(test_loss/len(testloader)),\"Test Accuracy: {:.3f}\".format(accuracy/len(testloader)))\n"
      ],
      "execution_count": 8,
      "outputs": [
        {
          "output_type": "stream",
          "text": [
            "Epoch: 1/30..  Training Loss: 1.150..  Test Loss: 0.777..  Test Accuracy: 0.741\n",
            "Epoch: 2/30..  Training Loss: 0.683..  Test Loss: 0.645..  Test Accuracy: 0.774\n",
            "Epoch: 3/30..  Training Loss: 0.597..  Test Loss: 0.594..  Test Accuracy: 0.791\n",
            "Epoch: 4/30..  Training Loss: 0.552..  Test Loss: 0.557..  Test Accuracy: 0.804\n",
            "Epoch: 5/30..  Training Loss: 0.523..  Test Loss: 0.537..  Test Accuracy: 0.811\n",
            "Epoch: 6/30..  Training Loss: 0.502..  Test Loss: 0.523..  Test Accuracy: 0.812\n",
            "Epoch: 7/30..  Training Loss: 0.486..  Test Loss: 0.508..  Test Accuracy: 0.818\n",
            "Epoch: 8/30..  Training Loss: 0.473..  Test Loss: 0.499..  Test Accuracy: 0.823\n",
            "Epoch: 9/30..  Training Loss: 0.462..  Test Loss: 0.492..  Test Accuracy: 0.826\n",
            "Epoch: 10/30..  Training Loss: 0.453..  Test Loss: 0.479..  Test Accuracy: 0.830\n",
            "Epoch: 11/30..  Training Loss: 0.445..  Test Loss: 0.474..  Test Accuracy: 0.830\n",
            "Epoch: 12/30..  Training Loss: 0.438..  Test Loss: 0.468..  Test Accuracy: 0.833\n",
            "Epoch: 13/30..  Training Loss: 0.431..  Test Loss: 0.463..  Test Accuracy: 0.835\n",
            "Epoch: 14/30..  Training Loss: 0.425..  Test Loss: 0.461..  Test Accuracy: 0.833\n",
            "Epoch: 15/30..  Training Loss: 0.420..  Test Loss: 0.452..  Test Accuracy: 0.838\n",
            "Epoch: 16/30..  Training Loss: 0.415..  Test Loss: 0.449..  Test Accuracy: 0.841\n",
            "Epoch: 17/30..  Training Loss: 0.410..  Test Loss: 0.442..  Test Accuracy: 0.841\n",
            "Epoch: 18/30..  Training Loss: 0.406..  Test Loss: 0.443..  Test Accuracy: 0.844\n",
            "Epoch: 19/30..  Training Loss: 0.402..  Test Loss: 0.439..  Test Accuracy: 0.843\n",
            "Epoch: 20/30..  Training Loss: 0.398..  Test Loss: 0.432..  Test Accuracy: 0.845\n",
            "Epoch: 21/30..  Training Loss: 0.394..  Test Loss: 0.430..  Test Accuracy: 0.847\n",
            "Epoch: 22/30..  Training Loss: 0.390..  Test Loss: 0.427..  Test Accuracy: 0.844\n",
            "Epoch: 23/30..  Training Loss: 0.387..  Test Loss: 0.424..  Test Accuracy: 0.848\n",
            "Epoch: 24/30..  Training Loss: 0.384..  Test Loss: 0.422..  Test Accuracy: 0.848\n",
            "Epoch: 25/30..  Training Loss: 0.381..  Test Loss: 0.421..  Test Accuracy: 0.848\n",
            "Epoch: 26/30..  Training Loss: 0.378..  Test Loss: 0.418..  Test Accuracy: 0.850\n",
            "Epoch: 27/30..  Training Loss: 0.375..  Test Loss: 0.414..  Test Accuracy: 0.851\n",
            "Epoch: 28/30..  Training Loss: 0.372..  Test Loss: 0.411..  Test Accuracy: 0.853\n",
            "Epoch: 29/30..  Training Loss: 0.370..  Test Loss: 0.410..  Test Accuracy: 0.854\n",
            "Epoch: 30/30..  Training Loss: 0.367..  Test Loss: 0.409..  Test Accuracy: 0.854\n"
          ],
          "name": "stdout"
        }
      ]
    }
  ]
}