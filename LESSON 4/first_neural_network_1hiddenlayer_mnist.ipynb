{
  "nbformat": 4,
  "nbformat_minor": 0,
  "metadata": {
    "colab": {
      "name": "first_neural_network_1hiddenlayer_mnist",
      "version": "0.3.2",
      "provenance": []
    },
    "kernelspec": {
      "name": "python3",
      "display_name": "Python 3"
    },
    "accelerator": "GPU"
  },
  "cells": [
    {
      "metadata": {
        "id": "_7_7bIro1uVL",
        "colab_type": "code",
        "colab": {}
      },
      "cell_type": "code",
      "source": [
        "# http://pytorch.org/\n",
        "from os.path import exists\n",
        "from wheel.pep425tags import get_abbr_impl, get_impl_ver, get_abi_tag\n",
        "platform = '{}{}-{}'.format(get_abbr_impl(), get_impl_ver(), get_abi_tag())\n",
        "cuda_output = !ldconfig -p|grep cudart.so|sed -e 's/.*\\.\\([0-9]*\\)\\.\\([0-9]*\\)$/cu\\1\\2/'\n",
        "accelerator = cuda_output[0] if exists('/dev/nvidia0') else 'cpu'\n",
        "\n",
        "!pip install -q http://download.pytorch.org/whl/{accelerator}/torch-0.4.1-{platform}-linux_x86_64.whl torchvision\n",
        "import torch"
      ],
      "execution_count": 0,
      "outputs": []
    },
    {
      "metadata": {
        "id": "z260UNdC11Bt",
        "colab_type": "code",
        "colab": {}
      },
      "cell_type": "code",
      "source": [
        "from torch import nn\n",
        "\n"
      ],
      "execution_count": 0,
      "outputs": []
    },
    {
      "metadata": {
        "id": "Gr9f1AhKmbyk",
        "colab_type": "code",
        "colab": {
          "base_uri": "https://localhost:8080/",
          "height": 334
        },
        "outputId": "f5a4b56a-e639-4ece-c811-4bfd47c9ef79"
      },
      "cell_type": "code",
      "source": [
        "m=nn.Linear(20,30)\n",
        "inputs=torch.randn(128,20)\n",
        "output=m(inputs)\n",
        "print(m)\n",
        "print(inputs)\n",
        "print(inputs.shape)\n",
        "print(output)\n",
        "print(output.shape)"
      ],
      "execution_count": 6,
      "outputs": [
        {
          "output_type": "stream",
          "text": [
            "Linear(in_features=20, out_features=30, bias=True)\n",
            "tensor([[-0.9945, -1.6163,  0.7022,  ..., -0.4514, -1.2316,  2.1909],\n",
            "        [-1.9843,  0.5715,  0.2544,  ...,  0.2894,  0.0535,  0.5636],\n",
            "        [ 0.7794, -0.7886,  1.2678,  ..., -0.8562, -0.4870, -1.6026],\n",
            "        ...,\n",
            "        [ 0.8772,  1.6979,  0.8410,  ...,  0.5235,  0.0081,  0.0923],\n",
            "        [ 0.3820, -0.9045,  1.3112,  ..., -0.0742,  0.0541, -0.4601],\n",
            "        [ 0.6215, -1.7491,  2.8087,  ...,  1.9371, -1.8552, -2.3539]])\n",
            "torch.Size([128, 20])\n",
            "tensor([[-0.2750,  0.4790,  0.4474,  ..., -1.4150, -0.4036,  0.0721],\n",
            "        [ 0.4183,  0.5429, -0.4394,  ..., -0.7522, -0.1807, -0.4075],\n",
            "        [ 0.2177,  1.0904,  0.1214,  ..., -0.3830,  0.5400,  0.2247],\n",
            "        ...,\n",
            "        [ 0.6277,  0.0933, -0.5467,  ..., -0.0364, -0.2876, -0.2355],\n",
            "        [ 0.2444, -0.2164,  0.8922,  ..., -0.0683, -0.3108,  0.6065],\n",
            "        [ 0.1483,  1.1161,  0.8189,  ...,  0.4444, -0.9471, -0.3768]],\n",
            "       grad_fn=<ThAddmmBackward>)\n",
            "torch.Size([128, 30])\n"
          ],
          "name": "stdout"
        }
      ]
    },
    {
      "metadata": {
        "id": "zkyKCp2m6N4H",
        "colab_type": "code",
        "colab": {
          "base_uri": "https://localhost:8080/",
          "height": 105
        },
        "outputId": "80054a15-d8e0-45fc-cfe8-0f0689d15e5e"
      },
      "cell_type": "code",
      "source": [
        "sig=nn.Sigmoid()\n",
        "print(sig)\n",
        "inputs=torch.randn(2)\n",
        "print(inputs)\n",
        "print(inputs.shape)\n",
        "output=sig(inputs)\n",
        "print(output)\n",
        "print(output.shape)\n"
      ],
      "execution_count": 12,
      "outputs": [
        {
          "output_type": "stream",
          "text": [
            "Sigmoid()\n",
            "tensor([-0.9158, -0.0008])\n",
            "torch.Size([2])\n",
            "tensor([0.2858, 0.4998])\n",
            "torch.Size([2])\n"
          ],
          "name": "stdout"
        }
      ]
    },
    {
      "metadata": {
        "id": "dwdCvO-q7mPi",
        "colab_type": "code",
        "colab": {
          "base_uri": "https://localhost:8080/",
          "height": 140
        },
        "outputId": "4b0854d6-8e52-4d97-d36d-4e14212da8cb"
      },
      "cell_type": "code",
      "source": [
        "somx=nn.Softmax(dim=1)\n",
        "print(somx)\n",
        "inputs1=torch.randn(2,3)\n",
        "print(inputs1)\n",
        "print(inputs1.shape)\n",
        "output1=somx(inputs1)\n",
        "print(output1)\n",
        "print(output1.shape)\n"
      ],
      "execution_count": 15,
      "outputs": [
        {
          "output_type": "stream",
          "text": [
            "Softmax()\n",
            "tensor([[-0.1456,  0.7271, -0.4266],\n",
            "        [ 0.4783,  0.3800,  0.9403]])\n",
            "torch.Size([2, 3])\n",
            "tensor([[0.2411, 0.5769, 0.1820],\n",
            "        [0.2862, 0.2594, 0.4543]])\n",
            "torch.Size([2, 3])\n"
          ],
          "name": "stdout"
        }
      ]
    },
    {
      "metadata": {
        "id": "WPHB7obb5jsI",
        "colab_type": "code",
        "colab": {}
      },
      "cell_type": "code",
      "source": [
        "#using the above to model the neural network"
      ],
      "execution_count": 0,
      "outputs": []
    },
    {
      "metadata": {
        "id": "03zYN5RX--BH",
        "colab_type": "code",
        "colab": {}
      },
      "cell_type": "code",
      "source": [
        "class network(nn.Module):\n",
        "  \n",
        "  def __init__(self):\n",
        "    super().__init__()\n",
        "    \n",
        "    self.hidden=nn.Linear(784,256)\n",
        "    self.output=nn.Linear(256,10)\n",
        "    self.sig=nn.Sigmoid()\n",
        "    self.somx=nn.Softmax(dim=1)\n",
        "  \n",
        "  def forward_pass(self,x):\n",
        "    \n",
        "    x=self.hidden(x)\n",
        "    x=self.sig(x)\n",
        "    x=self.output(x)\n",
        "    x=self.somx(x)\n",
        "    \n",
        "    return x  \n",
        "  "
      ],
      "execution_count": 0,
      "outputs": []
    },
    {
      "metadata": {
        "id": "-bg-DOzBAFaB",
        "colab_type": "code",
        "colab": {
          "base_uri": "https://localhost:8080/",
          "height": 122
        },
        "outputId": "8521b157-1b42-4618-e278-fbdbf25dcee6"
      },
      "cell_type": "code",
      "source": [
        "model=network()\n",
        "print(model)\n",
        "\n"
      ],
      "execution_count": 19,
      "outputs": [
        {
          "output_type": "stream",
          "text": [
            "network(\n",
            "  (hidden): Linear(in_features=784, out_features=256, bias=True)\n",
            "  (output): Linear(in_features=256, out_features=10, bias=True)\n",
            "  (sig): Sigmoid()\n",
            "  (somx): Softmax()\n",
            ")\n"
          ],
          "name": "stdout"
        }
      ]
    }
  ]
}